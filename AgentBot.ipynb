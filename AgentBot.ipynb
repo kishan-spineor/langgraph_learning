{
 "cells": [
  {
   "cell_type": "code",
   "execution_count": 9,
   "metadata": {},
   "outputs": [],
   "source": [
    "\n",
    "from typing import Annotated,Sequence,TypedDict\n",
    "from langchain_google_genai import ChatGoogleGenerativeAI\n",
    "from langchain_core.messages import SystemMessage,HumanMessage,ToolMessage,BaseMessage\n",
    "from langgraph.graph import StateGraph,START,END\n",
    "from langgraph.graph.message import add_messages\n",
    "from langchain.tools import tool\n",
    "from langgraph.prebuilt import ToolNode\n",
    "from dotenv import load_dotenv"
   ]
  },
  {
   "cell_type": "code",
   "execution_count": 10,
   "metadata": {},
   "outputs": [
    {
     "data": {
      "text/plain": [
       "True"
      ]
     },
     "execution_count": 10,
     "metadata": {},
     "output_type": "execute_result"
    }
   ],
   "source": [
    "load_dotenv()"
   ]
  },
  {
   "cell_type": "code",
   "execution_count": 11,
   "metadata": {},
   "outputs": [],
   "source": [
    "\n",
    "class Agentstate(TypedDict):\n",
    "    message:Annotated[Sequence[BaseMessage],add_messages]"
   ]
  },
  {
   "cell_type": "code",
   "execution_count": 12,
   "metadata": {},
   "outputs": [],
   "source": [
    "@tool\n",
    "def addition(a:int,b:int):\n",
    "    \"\"\"this is for addition of two number\"\"\"\n",
    "    return a + b\n",
    "\n",
    "@tool\n",
    "def multiply(a:int,b:int):\n",
    "    \"\"\"this is the for multiplication\"\"\"\n",
    "    return a*b\n",
    "\n",
    "tools = [addition,multiply]\n",
    "llm = ChatGoogleGenerativeAI(model='gemini-1.5-flash').bind_tools(tools)\n"
   ]
  },
  {
   "cell_type": "code",
   "execution_count": 13,
   "metadata": {},
   "outputs": [],
   "source": [
    "def model_call(state:Agentstate):\n",
    "    system_prompt = SystemMessage(content=\"you can well qualify doctor.\")\n",
    "    response = llm.invoke([system_prompt] + state[\"message\"])\n",
    "    return {'message':response.content}\n",
    "\n",
    "def should_continue(state:Agentstate):\n",
    "    \"\"\"This is for the condition based means for looping using tools or not.\"\"\"\n",
    "    message_1 = state[\"message\"]\n",
    "    last_message = message_1[-1]\n",
    "    if last_message.tool_calls:\n",
    "        return \"end\"\n",
    "    else:\n",
    "        return \"continue\"\n",
    "    \n"
   ]
  },
  {
   "cell_type": "code",
   "execution_count": null,
   "metadata": {},
   "outputs": [],
   "source": [
    "graph = StateGraph(Agentstate)\n",
    "graph.add_node(\"our_agent\",model_call)\n",
    "tool_node = ToolNode(tools=tools)\n",
    "graph.set_entry_point(\"our_agent\")\n",
    "graph.add_conditional_edges(\n",
    "    \"our_agent\",\n",
    "    should_continue,\n",
    "    {\n",
    "        \"continue\":\"tools\",\n",
    "        \"end\":END\n",
    "    }\n",
    ")"
   ]
  }
 ],
 "metadata": {
  "kernelspec": {
   "display_name": ".venv",
   "language": "python",
   "name": "python3"
  },
  "language_info": {
   "codemirror_mode": {
    "name": "ipython",
    "version": 3
   },
   "file_extension": ".py",
   "mimetype": "text/x-python",
   "name": "python",
   "nbconvert_exporter": "python",
   "pygments_lexer": "ipython3",
   "version": "3.12.3"
  }
 },
 "nbformat": 4,
 "nbformat_minor": 2
}
