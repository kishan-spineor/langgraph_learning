{
 "cells": [
  {
   "cell_type": "code",
   "execution_count": 1,
   "metadata": {},
   "outputs": [],
   "source": [
    "from typing import TypedDict\n",
    "from langgraph.graph import StateGraph,START,END"
   ]
  },
  {
   "cell_type": "code",
   "execution_count": 2,
   "metadata": {},
   "outputs": [],
   "source": [
    "class Agentstate(TypedDict):\n",
    "    number1:int\n",
    "    operator:str\n",
    "    number2:int\n",
    "    finalnumber:int"
   ]
  },
  {
   "cell_type": "code",
   "execution_count": 3,
   "metadata": {},
   "outputs": [],
   "source": [
    "def adder(state:Agentstate):\n",
    "    \"\"\"this is the adding of two number\"\"\"\n",
    "    state['finalnumber'] = state['number1'] + state['number2']\n",
    "    return state\n",
    "\n",
    "def subtractor(state:Agentstate):\n",
    "    \"\"\"this is for subtract the 2 number.\"\"\"\n",
    "    state['finalnumber'] = state['number2'] - state['number1']\n",
    "    return state\n",
    "\n",
    "def decide_next_node(state:Agentstate):\n",
    "    \"\"\"this is the state which are decide the which phase of the graph is working.\"\"\"\n",
    "    if state['operator'] == \"+\":\n",
    "        return \"addition_operator\"\n",
    "    elif state['operator'] == \"-\":\n",
    "        return \"substraction_operator\"\n",
    "\n"
   ]
  },
  {
   "cell_type": "code",
   "execution_count": 9,
   "metadata": {},
   "outputs": [],
   "source": [
    "graph = StateGraph(Agentstate)\n",
    "graph.add_node(\"adder_node\",adder)\n",
    "graph.add_node(\"subtractor_node\",subtractor)\n",
    "\n",
    "graph.add_node(\"router\", lambda state:state) # passthrough function\n",
    "graph.add_edge(START,\"router\")\n",
    "graph.add_conditional_edges(\n",
    "\"router\",\n",
    "decide_next_node,\n",
    "{\n",
    "    #edges: Node\n",
    "    \"addition_operator\":\"adder_node\",\n",
    "    \"substraction_operator\":\"subtractor_node\"\n",
    "}\n",
    "\n",
    ")\n",
    "graph.add_edge(\"adder_node\",END)\n",
    "graph.add_edge(\"subtractor_node\",END)\n",
    "\n",
    "app = graph.compile()\n",
    "\n"
   ]
  },
  {
   "cell_type": "code",
   "execution_count": 10,
   "metadata": {},
   "outputs": [
    {
     "data": {
      "image/png": "[encoded data removed]",
      "text/plain": [
       "<langgraph.graph.state.CompiledStateGraph object at 0x76dce828d4c0>"
      ]
     },
     "execution_count": 10,
     "metadata": {},
     "output_type": "execute_result"
    }
   ],
   "source": [
    "app"
   ]
  },
  {
   "cell_type": "code",
   "execution_count": 11,
   "metadata": {},
   "outputs": [
    {
     "data": {
      "text/plain": [
       "{'number1': 15, 'operator': '+', 'number2': 5, 'finalnumber': 20}"
      ]
     },
     "execution_count": 11,
     "metadata": {},
     "output_type": "execute_result"
    }
   ],
   "source": [
    "app.invoke({'number1':15,'number2':5,'operator':'+'})"
   ]
  },
  {
   "cell_type": "code",
   "execution_count": 12,
   "metadata": {},
   "outputs": [
    {
     "data": {
      "text/plain": [
       "{'number1': 12, 'operator': '-', 'number2': 32, 'finalnumber': 20}"
      ]
     },
     "execution_count": 12,
     "metadata": {},
     "output_type": "execute_result"
    }
   ],
   "source": [
    "app.invoke({'number1':12,'number2':32,'operator':'-'})"
   ]
  },
  {
   "cell_type": "code",
   "execution_count": 13,
   "metadata": {},
   "outputs": [
    {
     "data": {
      "text/plain": [
       "{'number1': 12, 'operator': '+', 'number2': 10, 'finalnumber': 22}"
      ]
     },
     "execution_count": 13,
     "metadata": {},
     "output_type": "execute_result"
    }
   ],
   "source": [
    "initial_stage = Agentstate(number1=12,number2=10,operator='+')\n",
    "app.invoke(initial_stage)"
   ]
  },
  {
   "cell_type": "code",
   "execution_count": null,
   "metadata": {},
   "outputs": [],
   "source": []
  }
 ],
 "metadata": {
  "kernelspec": {
   "display_name": ".env",
   "language": "python",
   "name": "python3"
  },
  "language_info": {
   "codemirror_mode": {
    "name": "ipython",
    "version": 3
   },
   "file_extension": ".py",
   "mimetype": "text/x-python",
   "name": "python",
   "nbconvert_exporter": "python",
   "pygments_lexer": "ipython3",
   "version": "3.12.3"
  }
 },
 "nbformat": 4,
 "nbformat_minor": 2
}
