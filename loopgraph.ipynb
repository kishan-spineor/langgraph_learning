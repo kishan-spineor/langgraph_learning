{
 "cells": [
  {
   "cell_type": "code",
   "execution_count": 2,
   "metadata": {},
   "outputs": [],
   "source": [
    "from typing import TypedDict\n",
    "from langgraph.graph import StateGraph,END,START"
   ]
  },
  {
   "cell_type": "code",
   "execution_count": 3,
   "metadata": {},
   "outputs": [],
   "source": [
    "class Agentstate(TypedDict):\n",
    "    ls:list[int]\n",
    "    counter:int\n",
    "    name:str"
   ]
  },
  {
   "cell_type": "code",
   "execution_count": 48,
   "metadata": {},
   "outputs": [],
   "source": [
    "import random\n",
    "def greet_persion(state:Agentstate):\n",
    "    \"\"\"this is the greeting to the persion\"\"\"\n",
    "    state['name'] = f\"Hey! {state['name']}\"\n",
    "    state['counter'] = 0\n",
    "    return state\n",
    "\n",
    "def random_node(state:Agentstate):\n",
    "    \"\"\"this is the generated step where the random number is added to the list\"\"\"\n",
    "    state['counter'] = state['counter'] + 1\n",
    "    state['ls'].append(random.randint(0,10))\n",
    "    return state\n",
    "\n",
    "def should_continue(state:Agentstate):\n",
    "    \"\"\"this is the state where the node is tell that should continue on looping or not\"\"\"\n",
    "    if state['counter'] < 5:\n",
    "        return \"continue\"\n",
    "    else:\n",
    "        return \"break\""
   ]
  },
  {
   "cell_type": "code",
   "execution_count": 49,
   "metadata": {},
   "outputs": [],
   "source": [
    "graph = StateGraph(Agentstate)\n",
    "graph.add_node(\"greeting\",greet_persion)\n",
    "graph.add_node(\"random\",random_node)\n",
    "graph.add_edge(START,\"greeting\")\n",
    "graph.add_edge(\"greeting\",\"random\")\n",
    "graph.add_conditional_edges(\n",
    "\"random\",\n",
    "should_continue,\n",
    "{\n",
    "    \"continue\":\"random\",\n",
    "    \"break\":END\n",
    "}\n",
    "\n",
    "\n",
    ")\n",
    "\n",
    "app = graph.compile()"
   ]
  },
  {
   "cell_type": "code",
   "execution_count": 50,
   "metadata": {},
   "outputs": [
    {
     "data": {
      "image/png": "[encoded data removed]",
      "text/plain": [
       "<langgraph.graph.state.CompiledStateGraph object at 0x79b6fc929e80>"
      ]
     },
     "execution_count": 50,
     "metadata": {},
     "output_type": "execute_result"
    }
   ],
   "source": [
    "app"
   ]
  },
  {
   "cell_type": "code",
   "execution_count": 51,
   "metadata": {},
   "outputs": [],
   "source": [
    "intial_state = Agentstate(counter=-1,name='kishan',ls=[])"
   ]
  },
  {
   "cell_type": "code",
   "execution_count": 52,
   "metadata": {},
   "outputs": [
    {
     "data": {
      "text/plain": [
       "{'ls': [0, 4, 4, 8, 10], 'counter': 5, 'name': 'Hey! kishan'}"
      ]
     },
     "execution_count": 52,
     "metadata": {},
     "output_type": "execute_result"
    }
   ],
   "source": [
    "app.invoke(intial_state)"
   ]
  },
  {
   "cell_type": "code",
   "execution_count": 54,
   "metadata": {},
   "outputs": [],
   "source": [
    "# !pip install python-dotenv"
   ]
  },
  {
   "cell_type": "code",
   "execution_count": 56,
   "metadata": {},
   "outputs": [],
   "source": [
    "# !pip install langchain_google_genai"
   ]
  },
  {
   "cell_type": "code",
   "execution_count": null,
   "metadata": {},
   "outputs": [],
   "source": []
  }
 ],
 "metadata": {
  "kernelspec": {
   "display_name": "Python 3",
   "language": "python",
   "name": "python3"
  },
  "language_info": {
   "codemirror_mode": {
    "name": "ipython",
    "version": 3
   },
   "file_extension": ".py",
   "mimetype": "text/x-python",
   "name": "python",
   "nbconvert_exporter": "python",
   "pygments_lexer": "ipython3",
   "version": "3.12.3"
  }
 },
 "nbformat": 4,
 "nbformat_minor": 2
}
