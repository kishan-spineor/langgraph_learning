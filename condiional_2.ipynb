{
 "cells": [
  {
   "cell_type": "code",
   "execution_count": 1,
   "metadata": {},
   "outputs": [],
   "source": [
    "from typing import TypedDict\n",
    "from langgraph.graph import StateGraph,START,END\n"
   ]
  },
  {
   "cell_type": "code",
   "execution_count": 2,
   "metadata": {},
   "outputs": [],
   "source": [
    "class Agentstate(TypedDict):\n",
    "    num1:int\n",
    "    num2:int\n",
    "    final1:int\n",
    "    final2:int\n",
    "    num3:int\n",
    "    num4:int\n",
    "    opr1:str\n",
    "    opr2:str"
   ]
  },
  {
   "cell_type": "code",
   "execution_count": 3,
   "metadata": {},
   "outputs": [],
   "source": [
    "def add_1(state:Agentstate):\n",
    "    \"\"\"this is the first addition in graph\"\"\"\n",
    "    state['final1'] = state['num1'] + state['num2']\n",
    "    return state\n",
    "\n",
    "def sub_1(state:Agentstate):\n",
    "    \"\"\"this is the subtraction 1\"\"\"\n",
    "    state['final1'] = state['num2'] - state['num1']\n",
    "    return state\n",
    "\n",
    "\n",
    "def add_2(state:Agentstate):\n",
    "    \"\"\"this is the first addition in graph\"\"\"\n",
    "    state['final2'] = state['num3'] + state['num4']\n",
    "    return state\n",
    "\n",
    "def sub_2(state:Agentstate):\n",
    "    \"\"\"this is the subtraction 1\"\"\"\n",
    "    state['final2'] = state['num4'] - state['num3']\n",
    "    return state\n",
    "\n",
    "def decision_1_node(state:Agentstate):\n",
    "    if state['opr1'] == \"+\":\n",
    "        return \"addition_1\"\n",
    "    elif state['opr1'] == \"-\":\n",
    "        return \"subtract_1\"\n",
    "    \n",
    "\n",
    "def decision_2_node(state:Agentstate):\n",
    "    if state['opr2'] == \"+\":\n",
    "        return \"addition_2\"\n",
    "    elif state[\"opr2\"] == \"-\":\n",
    "        return \"subtract_2\"\n",
    "    \n"
   ]
  },
  {
   "cell_type": "code",
   "execution_count": 12,
   "metadata": {},
   "outputs": [],
   "source": [
    "graph = StateGraph(Agentstate)\n",
    "graph.add_node(\"add_1\",add_1)\n",
    "graph.add_node(\"sub_1\",sub_1)\n",
    "\n",
    "\n",
    "\n",
    "graph.add_node(\"router_1\",lambda state:state) #any name you can use apart from state\n",
    "graph.add_node(\"add_2\",add_2)\n",
    "graph.add_node(\"sub_2\",sub_2)\n",
    "graph.add_edge(START,\"router_1\")\n",
    "# graph.add_node\n",
    "graph.add_conditional_edges(\n",
    "\"router_1\",\n",
    "decision_1_node,\n",
    "{\n",
    "    \"addition_1\":\"add_1\",\n",
    "    \"subtract_1\":\"sub_1\"\n",
    "}\n",
    "\n",
    ") \n",
    "graph.add_node(\"router_2\",lambda state:state)\n",
    "graph.add_edge(\"add_1\",\"router_2\")\n",
    "graph.add_edge(\"sub_1\",\"router_2\")\n",
    "graph.add_conditional_edges(\n",
    "    \"router_2\",\n",
    "    decision_2_node,\n",
    "    {\n",
    "        \"addition_2\":\"add_2\",\n",
    "        \"subtract_2\":\"sub_2\"\n",
    "    }\n",
    ")\n",
    "\n",
    "graph.add_edge(\"add_2\",END)\n",
    "graph.add_edge(\"sub_2\",END)\n",
    "\n",
    "app = graph.compile()\n"
   ]
  },
  {
   "cell_type": "code",
   "execution_count": 14,
   "metadata": {},
   "outputs": [
    {
     "data": {
      "image/png": "[encoded data removed]",
      "text/plain": [
       "<langgraph.graph.state.CompiledStateGraph object at 0x7138c84daab0>"
      ]
     },
     "execution_count": 14,
     "metadata": {},
     "output_type": "execute_result"
    }
   ],
   "source": [
    "app"
   ]
  },
  {
   "cell_type": "code",
   "execution_count": 16,
   "metadata": {},
   "outputs": [
    {
     "data": {
      "text/plain": [
       "{'num1': 10,\n",
       " 'num2': 5,\n",
       " 'final1': 15,\n",
       " 'final2': -5,\n",
       " 'num3': 10,\n",
       " 'num4': 5,\n",
       " 'opr1': '+',\n",
       " 'opr2': '-'}"
      ]
     },
     "execution_count": 16,
     "metadata": {},
     "output_type": "execute_result"
    }
   ],
   "source": [
    "initial_state = Agentstate(num1=10,num2=5,num3=10,num4=5,opr1=\"+\",opr2=\"-\")\n",
    "app.invoke(initial_state)"
   ]
  },
  {
   "cell_type": "code",
   "execution_count": null,
   "metadata": {},
   "outputs": [],
   "source": []
  }
 ],
 "metadata": {
  "kernelspec": {
   "display_name": "Python 3",
   "language": "python",
   "name": "python3"
  },
  "language_info": {
   "codemirror_mode": {
    "name": "ipython",
    "version": 3
   },
   "file_extension": ".py",
   "mimetype": "text/x-python",
   "name": "python",
   "nbconvert_exporter": "python",
   "pygments_lexer": "ipython3",
   "version": "3.12.3"
  }
 },
 "nbformat": 4,
 "nbformat_minor": 2
}
