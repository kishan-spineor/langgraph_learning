{
 "cells": [
  {
   "cell_type": "code",
   "execution_count": 2,
   "metadata": {},
   "outputs": [],
   "source": [
    "from typing import TypedDict\n",
    "from langgraph.graph import StateGraph\n"
   ]
  },
  {
   "cell_type": "code",
   "execution_count": 3,
   "metadata": {},
   "outputs": [],
   "source": [
    "class Agentstate(TypedDict):\n",
    "    values:list[int]\n",
    "    message:str\n",
    "    result:str\n",
    "    "
   ]
  },
  {
   "cell_type": "code",
   "execution_count": 4,
   "metadata": {},
   "outputs": [],
   "source": [
    "def add_er(state:Agentstate):\n",
    "    \"\"\"this is the function adding the values of the person\"\"\"\n",
    "    state['result'] = f\"the addition of the numbers is: {sum(state['values'])} for the person {state['message']}\"\n",
    "    return state"
   ]
  },
  {
   "cell_type": "code",
   "execution_count": 5,
   "metadata": {},
   "outputs": [],
   "source": [
    "graph = StateGraph(Agentstate)\n",
    "graph.add_node(\"adder\",add_er)\n",
    "graph.set_entry_point(\"adder\")\n",
    "graph.set_finish_point(\"adder\")\n",
    "app = graph.compile()"
   ]
  },
  {
   "cell_type": "code",
   "execution_count": 6,
   "metadata": {},
   "outputs": [
    {
     "data": {
      "text/plain": [
       "{'values': [1, 2, 3, 4],\n",
       " 'message': 'kishan',\n",
       " 'result': 'the addition of the numbers is: 10 for the person kishan'}"
      ]
     },
     "execution_count": 6,
     "metadata": {},
     "output_type": "execute_result"
    }
   ],
   "source": [
    "app.invoke({\"message\":\"kishan\",\"values\":[1,2,3,4]})  #i not pass the res variable so the langgraph put automatically None to res."
   ]
  },
  {
   "cell_type": "code",
   "execution_count": 7,
   "metadata": {},
   "outputs": [
    {
     "data": {
      "image/png": "[encoded data removed]",
      "text/plain": [
       "<IPython.core.display.Image object>"
      ]
     },
     "metadata": {},
     "output_type": "display_data"
    }
   ],
   "source": [
    "from IPython.display import Image,display\n",
    "display(Image(app.get_graph().draw_mermaid_png()))"
   ]
  },
  {
   "cell_type": "code",
   "execution_count": 8,
   "metadata": {},
   "outputs": [],
   "source": [
    "from functools import reduce\n",
    "\n",
    "def add_er(state:Agentstate):\n",
    "    \"\"\"this is the function adding the values of the person\"\"\"\n",
    "\n",
    "    state['result'] = f\"the addition of the numbers is: {reduce(lambda x, y: x * y, state['values'])} for the person {state['message']}\"\n",
    "    return state\n"
   ]
  },
  {
   "cell_type": "code",
   "execution_count": 9,
   "metadata": {},
   "outputs": [],
   "source": [
    "graph = StateGraph(Agentstate)\n",
    "graph.add_node(\"operations\",add_er)\n",
    "graph.set_entry_point(\"operations\")\n",
    "graph.set_finish_point(\"operations\")\n",
    "app=graph.compile()\n"
   ]
  },
  {
   "cell_type": "code",
   "execution_count": 10,
   "metadata": {},
   "outputs": [
    {
     "data": {
      "text/plain": [
       "{'values': [1, 2, 3],\n",
       " 'message': 'kishan',\n",
       " 'result': 'the addition of the numbers is: 6 for the person kishan'}"
      ]
     },
     "execution_count": 10,
     "metadata": {},
     "output_type": "execute_result"
    }
   ],
   "source": [
    "app.invoke({\"message\":\"kishan\",'values':[1,2,3]})"
   ]
  },
  {
   "cell_type": "code",
   "execution_count": null,
   "metadata": {},
   "outputs": [],
   "source": []
  }
 ],
 "metadata": {
  "kernelspec": {
   "display_name": ".env",
   "language": "python",
   "name": "python3"
  },
  "language_info": {
   "codemirror_mode": {
    "name": "ipython",
    "version": 3
   },
   "file_extension": ".py",
   "mimetype": "text/x-python",
   "name": "python",
   "nbconvert_exporter": "python",
   "pygments_lexer": "ipython3",
   "version": "3.12.3"
  }
 },
 "nbformat": 4,
 "nbformat_minor": 2
}
